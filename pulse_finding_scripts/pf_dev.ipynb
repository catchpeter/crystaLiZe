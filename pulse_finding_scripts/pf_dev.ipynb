{
 "cells": [
  {
   "cell_type": "code",
   "execution_count": 1,
   "metadata": {},
   "outputs": [],
   "source": [
    "import numpy as np\n",
    "#import pylab as pl\n",
    "import matplotlib.pyplot as pl\n",
    "import matplotlib as mpl\n",
    "import scipy\n",
    "from scipy.signal import find_peaks\n",
    "from scipy.signal import argrelmin\n",
    "import time"
   ]
  },
  {
   "cell_type": "code",
   "execution_count": 2,
   "metadata": {},
   "outputs": [],
   "source": [
    "# set plotting style\n",
    "mpl.rcParams['font.size']=10\n",
    "mpl.rcParams['legend.fontsize']='small'\n",
    "mpl.rcParams['figure.autolayout']=True\n",
    "mpl.rcParams['figure.figsize']=[8.0,6.0]"
   ]
  },
  {
   "cell_type": "code",
   "execution_count": 3,
   "metadata": {},
   "outputs": [],
   "source": [
    "def smooth(data,t_min,window):\n",
    "    avg_array=np.zeros(len(data))\n",
    "    #print(avg_array)\n",
    "    m=20\n",
    "    for i in range(t_min, t_min+window):\n",
    "        min_ind=i-m\n",
    "        max_ind=i+m\n",
    "        if min_ind<0: min_ind=0\n",
    "        if max_ind>len(data): max_ind = len(data)\n",
    "        avg_array[i]=(np.mean(data[min_ind:max_ind]))\n",
    "    return(avg_array)\n",
    "#def maxima(data):\n",
    "    #y = data\n",
    "    #peaks = argrelextrema(y, np.greater)\n",
    "   #return(peaks)\n",
    "#def minima(data):\n",
    "    #z = data\n",
    "    #valleys = argrelextrema(z, np.less)\n",
    "    #return(valleys)\n",
    "\n",
    "def pulse_finder_area_series(data,t_min_search,t_max_search,window):\n",
    "# Assumes data is already baseline-subtracted\n",
    "    max_area=-1\n",
    "    max_ind=-1\n",
    "    for i_start in range(t_min_search,t_max_search):\n",
    "        area=np.sum(data[i_start:i_start+window])\n",
    "        if area>max_area:\n",
    "            max_area=area\n",
    "            max_ind=i_start\n",
    "    return (max_ind, max_area)\n",
    "\t\n",
    "def pulse_finder_area(data,t_min_search,t_max_search,window):\n",
    "# Assumes data is already baseline-subtracted\n",
    "    if t_max_search < t_min_search+1:\n",
    "        return (-1, -1)\n",
    "    weights = np.repeat(1.0, window)#/window #to do avg instead of sum\n",
    "    data_conv = np.convolve(data, weights, 'same')\n",
    "\t# Search only w/in search range, offset so that max_ind is the start of the window rather than the center\n",
    "    max_ind=np.argmax(data_conv[int(t_min_search+window/2):int(t_max_search+window/2)])+int(t_min_search)\n",
    "    return (max_ind, data_conv[max_ind+int(window/2)])\n",
    "\n",
    "def pulse_bounds(data,t_min,window,start_frac,end_frac):\n",
    "    \n",
    "# Assumes data is already baseline-subtracted\n",
    "    start_pos=-1\n",
    "    end_pos=-1\n",
    "    min_search = np.maximum(0,t_min)\n",
    "    max_search = np.minimum(len(data)-1,t_min+window)\n",
    "    peak_val=np.max(data[min_search:max_search])\n",
    "    peak_pos=np.argmax(data[min_search:max_search])\n",
    "    #print(\"peak_val: \",peak_val,\"peak_pos: \",(peak_pos+min_search)*tscale)\n",
    "    #print(\"min_search: \",min_search*tscale,\"max_search: \",max_search*tscale)\n",
    "    #start_frac: pulse starts at this fraction of peak height above baseline\n",
    "    for i_start in range(min_search,max_search):\n",
    "        if data[i_start]>max(peak_val*start_frac,6.0/chA_spe_size):\n",
    "            start_pos=i_start\n",
    "            break\n",
    "    #end_frac: pulse ends at this fraction of peak height above baseline\n",
    "    for i_start in range(max_search,min_search,-1):\n",
    "        if data[i_start]>max(peak_val*end_frac,6.0/chA_spe_size):\n",
    "            end_pos=i_start\n",
    "            break\n",
    "    \n",
    "    return (start_pos, end_pos)\n",
    "def merged_bounds(data, t_min, window, start_frac, end_frac):\n",
    "    start_pos=-1\n",
    "    end_pos=-1\n",
    "    a = (np.diff(np.sign(np.diff(output))) > 0).nonzero()[0] + 1\n",
    "    b = argrelmin(data)\n",
    "    peak_v=np.max(data[t_min:t_min+window])\n",
    "    print(\"b:\", b)\n",
    "    second = []\n",
    "    print(\"a[0]:\", a[0])\n",
    "    for i in scipy.nditer(b):\n",
    "        #if data[i]>0.2 and max(data[t_min:t_min+window]) < i : \n",
    "            #for i_start in range(t_min,t_min+window):\n",
    "                #if data[i_start]>max(data[a[0]]*start_frac,4.5/chA_spe_size):\n",
    "                    #start_pos=i_start\n",
    "                    #break\n",
    "        if data[i]>1:\n",
    "            start_pos=i\n",
    "            print(\"i:\",i)\n",
    "            break\n",
    " \n",
    "    for j in a:\n",
    "            \n",
    "        if data[j]>0.2:\n",
    "            second.append(j)\n",
    "    for k in scipy.nditer(b):\n",
    "        if max(a) > k:\n",
    "            \n",
    "            for z in second[1:]:       \n",
    "       \n",
    "    #end_frac: pulse ends at this fraction of peak height above baseline\n",
    "                for i_start in range(t_min+window,t_min,-1):\n",
    "                    if data[i_start]>max(data[z]*end_frac,4.5/chA_spe_size):\n",
    "                        end_pos=i_start\n",
    "                        break\n",
    "        else:\n",
    "            end_pos = b[0]\n",
    "           \n",
    "    return(start_pos, end_pos) "
   ]
  },
  {
   "cell_type": "code",
   "execution_count": 4,
   "metadata": {},
   "outputs": [],
   "source": [
    "#load raw data\n",
    "data_dir=\"../data/fewevts/\"\n",
    "channel_0 = np.fromfile(data_dir+\"wave0.dat\", dtype=\"int16\")\n",
    "channel_1 = np.fromfile(data_dir+\"wave1.dat\", dtype=\"int16\")\n",
    "channel_2 = np.fromfile(data_dir+\"wave2.dat\", dtype=\"int16\")\n",
    "channel_3 = np.fromfile(data_dir+\"wave3.dat\", dtype=\"int16\")\n",
    "channel_4 = np.fromfile(data_dir+\"wave4.dat\", dtype=\"int16\")\n",
    "channel_5 = np.fromfile(data_dir+\"wave5.dat\", dtype=\"int16\")\n",
    "channel_6 = np.fromfile(data_dir+\"wave6.dat\", dtype=\"int16\")\n",
    "channel_7 = np.fromfile(data_dir+\"wave7.dat\", dtype=\"int16\")"
   ]
  },
  {
   "cell_type": "code",
   "execution_count": 5,
   "metadata": {},
   "outputs": [
    {
     "name": "stdout",
     "output_type": "stream",
     "text": [
      "[927 939 930 ... 932 931 925]\n"
     ]
    }
   ],
   "source": [
    "print( channel_0 )"
   ]
  },
  {
   "cell_type": "code",
   "execution_count": 6,
   "metadata": {},
   "outputs": [
    {
     "name": "stdout",
     "output_type": "stream",
     "text": [
      "244.0\n",
      "[3.89935147 3.94982851 3.91197073 ... 3.92038357 3.91617715 3.89093863]\n"
     ]
    }
   ],
   "source": [
    "# define DAQ parameters\n",
    "vscale = (2000.0/16384.0) # = 0.122 mV/ADCC\n",
    "wsize = 12500 # size of event window in samples. 1 sample = 2 ns.\n",
    "\n",
    "# scale to get units of mV/sample\n",
    "# then for each channel ensure we \n",
    "# have an integer number of events\n",
    "\n",
    "chA_spe_size = 29.02 # sphe size in mV*sample\n",
    "V = vscale*channel_0/chA_spe_size # ch A, calib size 644 \n",
    "V = V[:int(len(V)/wsize)*wsize]\n",
    "\n",
    "chB_spe_size = 30.61\n",
    "V_1 = vscale*channel_1/chB_spe_size\n",
    "V_1 = V_1[:int(len(V)/wsize)*wsize]\n",
    "\n",
    "chC_spe_size = 28.87\n",
    "V_2 = vscale*channel_2/chC_spe_size\n",
    "V_2 = V_2[:int(len(V)/wsize)*wsize]\n",
    "\n",
    "chD_spe_size = 28.86\n",
    "V_3 = vscale*channel_3/chD_spe_size\n",
    "V_3 = V_3[:int(len(V)/wsize)*wsize]\n",
    "\n",
    "chE_spe_size = 30.4\n",
    "V_4 = vscale*channel_4/chE_spe_size\n",
    "V_4 = V_4[:int(len(V)/wsize)*wsize]\n",
    "\n",
    "chF_spe_size = 30.44\n",
    "V_5 = vscale*channel_5/chF_spe_size\n",
    "V_5 = V_5[:int(len(V)/wsize)*wsize]\n",
    "\n",
    "chG_spe_size = 30.84\n",
    "V_6 = vscale*channel_6/chG_spe_size\n",
    "V_6 = V_6[:int(len(V)/wsize)*wsize]\n",
    "\n",
    "chH_spe_size = 30.3\n",
    "V_7 = vscale*channel_7/chH_spe_size\n",
    "V_7 = V_7[:int(len(V)/wsize)*wsize]\n",
    "\n",
    "\n",
    "print( len(V)/wsize )\n",
    "print( V )"
   ]
  },
  {
   "cell_type": "code",
   "execution_count": 37,
   "metadata": {},
   "outputs": [
    {
     "name": "stdout",
     "output_type": "stream",
     "text": [
      "[3.89935147 3.94982851 3.91197073 ... 3.89514505 3.90355789 3.92458999]\n",
      "244\n",
      "(244, 12500)\n",
      "(244, 12500)\n",
      "(9, 244, 12500)\n"
     ]
    }
   ],
   "source": [
    "\n",
    "n_channels = 9 # including sum\n",
    "\n",
    "# each channel's matrix of events\n",
    "v_matrix = V.reshape(int(V.size/wsize),wsize)\n",
    "v1_matrix = V_1.reshape(int(V.size/wsize),wsize)\n",
    "v2_matrix = V_2.reshape(int(V.size/wsize),wsize)\n",
    "v3_matrix = V_3.reshape(int(V.size/wsize),wsize)\n",
    "v4_matrix = V_4.reshape(int(V.size/wsize),wsize)\n",
    "v5_matrix = V_5.reshape(int(V.size/wsize),wsize)\n",
    "v6_matrix = V_6.reshape(int(V.size/wsize),wsize)\n",
    "v7_matrix = V_7.reshape(int(V.size/wsize),wsize)\n",
    "\n",
    "print(v_matrix[0,:])\n",
    "print( len(v_matrix[:,0]) )\n",
    "print( np.shape(v_matrix) )\n",
    "\n",
    "#sum waveform:\n",
    "vsum_matrix = v_matrix+v1_matrix+v2_matrix+v3_matrix+v4_matrix+v5_matrix+v6_matrix+v7_matrix\n",
    "print( np.shape(vsum_matrix) )\n",
    "\n",
    "v_matrix_all_ch = [v_matrix,v1_matrix,v2_matrix,v3_matrix,v4_matrix,v5_matrix,v6_matrix,v7_matrix,vsum_matrix]\n",
    "print( np.shape(v_matrix_all_ch) )\n",
    "\n",
    "# create the time axis in µs:\n",
    "x = np.arange(0, wsize, 1)\n",
    "tscale = (8.0/4096.0)\n",
    "t = tscale*x\n",
    "t_matrix = np.repeat(t[np.newaxis,:], V.size/wsize, 0)\n",
    "#print( np.shape(t_matrix) )"
   ]
  },
  {
   "cell_type": "code",
   "execution_count": 42,
   "metadata": {},
   "outputs": [
    {
     "data": {
      "text/plain": [
       "Text(0, 0.5, 'Phd/sample')"
      ]
     },
     "execution_count": 42,
     "metadata": {},
     "output_type": "execute_result"
    },
    {
     "data": {
      "image/png": "[encoded data removed]",
      "text/plain": [
       "<Figure size 720x504 with 1 Axes>"
      ]
     },
     "metadata": {
      "needs_background": "light"
     },
     "output_type": "display_data"
    }
   ],
   "source": [
    "# plot - no baseline sub yet\n",
    "i = 3\n",
    "i_chan = 0\n",
    "ch_labels=['A','B','C','D','E','F','G','H']\n",
    "ch_colors=[pl.cm.tab10(ii) for ii in range(n_channels)]\n",
    "fig = pl.figure(1,figsize=(10, 7))\n",
    "pl.rc('xtick', labelsize=10)\n",
    "pl.rc('ytick', labelsize=10)\n",
    "ax = pl.subplot2grid((2,2),(0,0))\n",
    "for i_chan in range(n_channels-1):\n",
    "    #pl.plot(t_matrix[i,:],v_matrix_all_ch[i_chan][i,:],color=ch_colors[i_chan],label=ch_labels[i_chan])\n",
    "    pl.plot( x,v_matrix_all_ch[i_chan][i,:],color=ch_colors[i_chan],label=ch_labels[i_chan])\n",
    "pl.xlim([0.,wsize])\n",
    "#pl.ylim([0, 16000])\n",
    "pl.xlabel('Time (us)')\n",
    "pl.ylabel('Phd/sample')"
   ]
  },
  {
   "cell_type": "code",
   "execution_count": 39,
   "metadata": {},
   "outputs": [
    {
     "name": "stdout",
     "output_type": "stream",
     "text": [
      "Total events:  244\n",
      "Event # 0\n",
      "Event # 100\n",
      "Event # 200\n",
      "(9, 12500)\n",
      "(9, 244, 12500)\n"
     ]
    }
   ],
   "source": [
    "# perform baseline subtraction:\n",
    "\n",
    "baseline_start = int(0./tscale)\n",
    "baseline_end = int(2./tscale)\n",
    "\n",
    "# baseline subtracted (bls) waveforms:\n",
    "v_bls_matrix_all_ch = np.zeros( np.shape(v_matrix_all_ch) ) # (chan #, evt #, sample #)\n",
    "\n",
    "print(\"Total events: \",v_matrix.shape[0])\n",
    "for i in range(0, int(v_matrix.shape[0])):\n",
    "    if i%100==0: print(\"Event #\",i)\n",
    "    \n",
    "    sum_baseline = np.mean( v_matrix_all_ch[-1][i,baseline_start:baseline_end] ) #avg ~us, avoiding trigger\n",
    "    baselines = [ np.mean( ch_j[i,baseline_start:baseline_end] ) for ch_j in v_matrix_all_ch ]\n",
    "    \n",
    "    #print( np.shape(baselines) )\n",
    "    #print(\"baseline:\", baselines)\n",
    "    #print(\"sum baseline:\", sum_baseline)\n",
    "    sum_data = v_matrix_all_ch[-1][i,:] - sum_baseline\n",
    "    ch_data = [ch_j[i,:]-baseline_j for (ch_j,baseline_j) in zip(v_matrix_all_ch,baselines)]\n",
    "    \n",
    "    v_bls_matrix_all_ch[:,i,:] = ch_data\n",
    "        \n",
    "    #print( np.shape(sum_data) )\n",
    "    #print( np.shape(ch_data) )\n",
    "print( np.shape(ch_data) )\n",
    "print( np.shape(v_bls_matrix_all_ch) )"
   ]
  },
  {
   "cell_type": "code",
   "execution_count": 40,
   "metadata": {},
   "outputs": [
    {
     "data": {
      "text/plain": [
       "<matplotlib.legend.Legend at 0x14812c1c0>"
      ]
     },
     "execution_count": 40,
     "metadata": {},
     "output_type": "execute_result"
    },
    {
     "data": {
      "image/png": "[encoded data removed]",
      "text/plain": [
       "<Figure size 2016x720 with 1 Axes>"
      ]
     },
     "metadata": {
      "needs_background": "light"
     },
     "output_type": "display_data"
    }
   ],
   "source": [
    "# plot the baseline sub data:\n",
    "i = 3\n",
    "i_chan = 0\n",
    "ch_labels=['A','B','C','D','E','F','G','H']\n",
    "ch_colors=[pl.cm.tab10(ii) for ii in range(n_channels)]\n",
    "fig = pl.figure(1,figsize=(28, 10))\n",
    "pl.rc('xtick', labelsize=10)\n",
    "pl.rc('ytick', labelsize=10)\n",
    "ax = pl.subplot2grid((2,2),(0,0))\n",
    "pl.grid(b=True,which='major',color='lightgray',linestyle='--')\n",
    "for i_chan in range(n_channels-1):\n",
    "    pl.plot(t_matrix[i,:],v_bls_matrix_all_ch[i_chan,i,:],color=ch_colors[i_chan],label=ch_labels[i_chan])\n",
    "pl.plot(t_matrix[i,:],v_bls_matrix_all_ch[-1,i,:],color='black',lw=1.2)\n",
    "pl.xlim([10.,24.])\n",
    "#pl.ylim([0, 16000])\n",
    "pl.xlabel('Time (us)')\n",
    "pl.ylabel('phd/sample')\n",
    "pl.legend()"
   ]
  },
  {
   "cell_type": "code",
   "execution_count": null,
   "metadata": {},
   "outputs": [],
   "source": []
  },
  {
   "cell_type": "code",
   "execution_count": null,
   "metadata": {},
   "outputs": [],
   "source": []
  },
  {
   "cell_type": "code",
   "execution_count": null,
   "metadata": {},
   "outputs": [],
   "source": []
  },
  {
   "cell_type": "code",
   "execution_count": null,
   "metadata": {},
   "outputs": [],
   "source": [
    "fig=pl.figure(1,figsize=(10, 7))\n",
    "        pl.rc('xtick', labelsize=10)\n",
    "        pl.rc('ytick', labelsize=10)\n",
    "        \n",
    "        ax=pl.subplot2grid((2,2),(0,0))\n",
    "        pl.title(\"Top array, event \"+str(i))\n",
    "        pl.grid(b=True,which='major',color='lightgray',linestyle='--')\n",
    "        ch_labels=['A','B','C','D','E','F','G','H']\n",
    "        ch_colors=[pl.cm.tab10(ii) for ii in range(n_channels)]\n",
    "        #ch_colors=[pl.cm.Dark2(ii) for ii in np.linspace(0.2,0.9,n_channels)]\n",
    "        #ch_colors=['y','cyan','magenta','b','y','cyan','magenta','b']\n",
    "        if s2_found:\n",
    "            ax.axvspan(s2_start_pos*tscale, s2_end_pos*tscale, alpha=0.3, color='blue')\n",
    "        if s1_found:\n",
    "            ax.axvspan(s1_start_pos*tscale, s1_end_pos*tscale, alpha=0.3, color='green')\n",
    "        for i_chan in range(n_channels-1):\n",
    "            if i_chan == (n_channels-1)/2:\n",
    "                ax=pl.subplot2grid((2,2),(0,1))\n",
    "                pl.title(\"Bottom array, event \"+str(i))\n",
    "                pl.grid(b=True,which='major',color='lightgray',linestyle='--')\n",
    "                \n",
    "                if s2_found:\n",
    "                    ax.axvspan(s2_start_pos*tscale, s2_end_pos*tscale, alpha=0.3, color='blue')\n",
    "                if s1_found:\n",
    "                    ax.axvspan(s1_start_pos*tscale, s1_end_pos*tscale, alpha=0.3, color='green')\n",
    "            \n",
    "            pl.plot(t_matrix[i,:],v_matrix_all_ch[i_chan][i,:],color=ch_colors[i_chan],label=ch_labels[i_chan])\n",
    "            pl.xlim([trigger_time_us-8,trigger_time_us+8])\n",
    "            pl.ylim([0, 1000/chA_spe_size])\n",
    "            pl.xlabel('Time (us)')\n",
    "            pl.ylabel('Phd/sample')\n",
    "            pl.legend()\n",
    "            #triggertime_us = (t[-1]*0.2)\n",
    "            #pl.plot(np.array([1,1])*triggertime_us,np.array([0,16384]),'k--')\n",
    "            \n",
    "\n",
    "                    \n",
    "        ax=pl.subplot2grid((2,2),(1,0),colspan=2)\n",
    "        pl.plot(t_matrix[i,:],vsum_matrix[i,:],'blue')\n",
    "        pl.xlim([0,25])\n",
    "        pl.ylim([0, 4000/chA_spe_size])\n",
    "        pl.xlabel('Time (us)')\n",
    "        pl.ylabel('Phd/sample')\n",
    "        pl.title(\"Sum, event \"+ str(i))\n",
    "        pl.grid(b=True,which='major',color='lightgray',linestyle='--')\n",
    "        triggertime_us = (t[-1]*0.2)\n",
    "        #pl.plot(np.array([1,1])*triggertime_us,np.array([0,16384]),'k--')\n",
    "        if s2_found:\n",
    "            ax.axvspan(s2_start_pos*tscale, s2_end_pos*tscale, alpha=0.3, color='blue')\n",
    "        if s1_found:\n",
    "            ax.axvspan(s1_start_pos*tscale, s1_end_pos*tscale, alpha=0.3, color='green')"
   ]
  },
  {
   "cell_type": "code",
   "execution_count": null,
   "metadata": {},
   "outputs": [],
   "source": []
  }
 ],
 "metadata": {
  "kernelspec": {
   "display_name": "Python 3",
   "language": "python",
   "name": "python3"
  },
  "language_info": {
   "codemirror_mode": {
    "name": "ipython",
    "version": 3
   },
   "file_extension": ".py",
   "mimetype": "text/x-python",
   "name": "python",
   "nbconvert_exporter": "python",
   "pygments_lexer": "ipython3",
   "version": "3.8.5"
  }
 },
 "nbformat": 4,
 "nbformat_minor": 4
}
